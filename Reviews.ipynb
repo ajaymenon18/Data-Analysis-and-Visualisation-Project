{
 "cells": [
  {
   "cell_type": "markdown",
   "id": "8bdd019f",
   "metadata": {},
   "source": [
    "## Overview of the Data Frame"
   ]
  },
  {
   "cell_type": "code",
   "execution_count": 1,
   "id": "23e8d5c9",
   "metadata": {},
   "outputs": [],
   "source": [
    "import pandas\n",
    "data = pandas.read_csv(\"reviews.csv\", parse_dates = ['Timestamp']) #telling the dataframe to treat the date as date(int) format and not string \n",
    "from datetime import datetime\n",
    "from pytz import utc\n"
   ]
  },
  {
   "cell_type": "code",
   "execution_count": 2,
   "id": "300d29cf",
   "metadata": {},
   "outputs": [
    {
     "data": {
      "text/html": [
       "<div>\n",
       "<style scoped>\n",
       "    .dataframe tbody tr th:only-of-type {\n",
       "        vertical-align: middle;\n",
       "    }\n",
       "\n",
       "    .dataframe tbody tr th {\n",
       "        vertical-align: top;\n",
       "    }\n",
       "\n",
       "    .dataframe thead th {\n",
       "        text-align: right;\n",
       "    }\n",
       "</style>\n",
       "<table border=\"1\" class=\"dataframe\">\n",
       "  <thead>\n",
       "    <tr style=\"text-align: right;\">\n",
       "      <th></th>\n",
       "      <th>Course Name</th>\n",
       "      <th>Timestamp</th>\n",
       "      <th>Rating</th>\n",
       "      <th>Comment</th>\n",
       "    </tr>\n",
       "  </thead>\n",
       "  <tbody>\n",
       "    <tr>\n",
       "      <th>0</th>\n",
       "      <td>The Python Mega Course: Build 10 Real World Ap...</td>\n",
       "      <td>2021-04-02 06:25:52+00:00</td>\n",
       "      <td>4.0</td>\n",
       "      <td>NaN</td>\n",
       "    </tr>\n",
       "    <tr>\n",
       "      <th>1</th>\n",
       "      <td>The Python Mega Course: Build 10 Real World Ap...</td>\n",
       "      <td>2021-04-02 05:12:34+00:00</td>\n",
       "      <td>4.0</td>\n",
       "      <td>NaN</td>\n",
       "    </tr>\n",
       "    <tr>\n",
       "      <th>2</th>\n",
       "      <td>The Python Mega Course: Build 10 Real World Ap...</td>\n",
       "      <td>2021-04-02 05:11:03+00:00</td>\n",
       "      <td>4.0</td>\n",
       "      <td>NaN</td>\n",
       "    </tr>\n",
       "    <tr>\n",
       "      <th>3</th>\n",
       "      <td>The Python Mega Course: Build 10 Real World Ap...</td>\n",
       "      <td>2021-04-02 03:33:24+00:00</td>\n",
       "      <td>5.0</td>\n",
       "      <td>NaN</td>\n",
       "    </tr>\n",
       "    <tr>\n",
       "      <th>4</th>\n",
       "      <td>The Python Mega Course: Build 10 Real World Ap...</td>\n",
       "      <td>2021-04-02 03:31:49+00:00</td>\n",
       "      <td>4.5</td>\n",
       "      <td>NaN</td>\n",
       "    </tr>\n",
       "  </tbody>\n",
       "</table>\n",
       "</div>"
      ],
      "text/plain": [
       "                                         Course Name  \\\n",
       "0  The Python Mega Course: Build 10 Real World Ap...   \n",
       "1  The Python Mega Course: Build 10 Real World Ap...   \n",
       "2  The Python Mega Course: Build 10 Real World Ap...   \n",
       "3  The Python Mega Course: Build 10 Real World Ap...   \n",
       "4  The Python Mega Course: Build 10 Real World Ap...   \n",
       "\n",
       "                  Timestamp  Rating Comment  \n",
       "0 2021-04-02 06:25:52+00:00     4.0     NaN  \n",
       "1 2021-04-02 05:12:34+00:00     4.0     NaN  \n",
       "2 2021-04-02 05:11:03+00:00     4.0     NaN  \n",
       "3 2021-04-02 03:33:24+00:00     5.0     NaN  \n",
       "4 2021-04-02 03:31:49+00:00     4.5     NaN  "
      ]
     },
     "execution_count": 2,
     "metadata": {},
     "output_type": "execute_result"
    }
   ],
   "source": [
    "data.head()"
   ]
  },
  {
   "cell_type": "code",
   "execution_count": 3,
   "id": "36ca205f",
   "metadata": {},
   "outputs": [
    {
     "data": {
      "text/plain": [
       "(45000, 4)"
      ]
     },
     "execution_count": 3,
     "metadata": {},
     "output_type": "execute_result"
    }
   ],
   "source": [
    "data.shape\n",
    "\n",
    "\n",
    "\n"
   ]
  },
  {
   "cell_type": "code",
   "execution_count": 4,
   "id": "11e99241",
   "metadata": {},
   "outputs": [
    {
     "data": {
      "text/plain": [
       "Index(['Course Name', 'Timestamp', 'Rating', 'Comment'], dtype='object')"
      ]
     },
     "execution_count": 4,
     "metadata": {},
     "output_type": "execute_result"
    }
   ],
   "source": [
    "data.columns"
   ]
  },
  {
   "cell_type": "code",
   "execution_count": 5,
   "id": "40501b2a",
   "metadata": {},
   "outputs": [
    {
     "ename": "ImportError",
     "evalue": "matplotlib is required for plotting when the default backend \"matplotlib\" is selected.",
     "output_type": "error",
     "traceback": [
      "\u001b[1;31m---------------------------------------------------------------------------\u001b[0m",
      "\u001b[1;31mImportError\u001b[0m                               Traceback (most recent call last)",
      "\u001b[1;32m~\\AppData\\Local\\Temp/ipykernel_244/2107723560.py\u001b[0m in \u001b[0;36m<module>\u001b[1;34m\u001b[0m\n\u001b[1;32m----> 1\u001b[1;33m \u001b[0mdata\u001b[0m\u001b[1;33m.\u001b[0m\u001b[0mhist\u001b[0m\u001b[1;33m(\u001b[0m\u001b[1;34m'Rating'\u001b[0m\u001b[1;33m)\u001b[0m\u001b[1;33m\u001b[0m\u001b[1;33m\u001b[0m\u001b[0m\n\u001b[0m",
      "\u001b[1;32mc:\\users\\hp\\appdata\\local\\programs\\python\\python39\\lib\\site-packages\\pandas\\plotting\\_core.py\u001b[0m in \u001b[0;36mhist_frame\u001b[1;34m(data, column, by, grid, xlabelsize, xrot, ylabelsize, yrot, ax, sharex, sharey, figsize, layout, bins, backend, legend, **kwargs)\u001b[0m\n\u001b[0;32m    223\u001b[0m         \u001b[1;33m>>\u001b[0m\u001b[1;33m>\u001b[0m \u001b[0mhist\u001b[0m \u001b[1;33m=\u001b[0m \u001b[0mdf\u001b[0m\u001b[1;33m.\u001b[0m\u001b[0mhist\u001b[0m\u001b[1;33m(\u001b[0m\u001b[0mbins\u001b[0m\u001b[1;33m=\u001b[0m\u001b[1;36m3\u001b[0m\u001b[1;33m)\u001b[0m\u001b[1;33m\u001b[0m\u001b[1;33m\u001b[0m\u001b[0m\n\u001b[0;32m    224\u001b[0m     \"\"\"\n\u001b[1;32m--> 225\u001b[1;33m     \u001b[0mplot_backend\u001b[0m \u001b[1;33m=\u001b[0m \u001b[0m_get_plot_backend\u001b[0m\u001b[1;33m(\u001b[0m\u001b[0mbackend\u001b[0m\u001b[1;33m)\u001b[0m\u001b[1;33m\u001b[0m\u001b[1;33m\u001b[0m\u001b[0m\n\u001b[0m\u001b[0;32m    226\u001b[0m     return plot_backend.hist_frame(\n\u001b[0;32m    227\u001b[0m         \u001b[0mdata\u001b[0m\u001b[1;33m,\u001b[0m\u001b[1;33m\u001b[0m\u001b[1;33m\u001b[0m\u001b[0m\n",
      "\u001b[1;32mc:\\users\\hp\\appdata\\local\\programs\\python\\python39\\lib\\site-packages\\pandas\\plotting\\_core.py\u001b[0m in \u001b[0;36m_get_plot_backend\u001b[1;34m(backend)\u001b[0m\n\u001b[0;32m   1812\u001b[0m         \u001b[1;32mreturn\u001b[0m \u001b[0m_backends\u001b[0m\u001b[1;33m[\u001b[0m\u001b[0mbackend\u001b[0m\u001b[1;33m]\u001b[0m\u001b[1;33m\u001b[0m\u001b[1;33m\u001b[0m\u001b[0m\n\u001b[0;32m   1813\u001b[0m \u001b[1;33m\u001b[0m\u001b[0m\n\u001b[1;32m-> 1814\u001b[1;33m     \u001b[0mmodule\u001b[0m \u001b[1;33m=\u001b[0m \u001b[0m_load_backend\u001b[0m\u001b[1;33m(\u001b[0m\u001b[0mbackend\u001b[0m\u001b[1;33m)\u001b[0m\u001b[1;33m\u001b[0m\u001b[1;33m\u001b[0m\u001b[0m\n\u001b[0m\u001b[0;32m   1815\u001b[0m     \u001b[0m_backends\u001b[0m\u001b[1;33m[\u001b[0m\u001b[0mbackend\u001b[0m\u001b[1;33m]\u001b[0m \u001b[1;33m=\u001b[0m \u001b[0mmodule\u001b[0m\u001b[1;33m\u001b[0m\u001b[1;33m\u001b[0m\u001b[0m\n\u001b[0;32m   1816\u001b[0m     \u001b[1;32mreturn\u001b[0m \u001b[0mmodule\u001b[0m\u001b[1;33m\u001b[0m\u001b[1;33m\u001b[0m\u001b[0m\n",
      "\u001b[1;32mc:\\users\\hp\\appdata\\local\\programs\\python\\python39\\lib\\site-packages\\pandas\\plotting\\_core.py\u001b[0m in \u001b[0;36m_load_backend\u001b[1;34m(backend)\u001b[0m\n\u001b[0;32m   1752\u001b[0m             \u001b[0mmodule\u001b[0m \u001b[1;33m=\u001b[0m \u001b[0mimportlib\u001b[0m\u001b[1;33m.\u001b[0m\u001b[0mimport_module\u001b[0m\u001b[1;33m(\u001b[0m\u001b[1;34m\"pandas.plotting._matplotlib\"\u001b[0m\u001b[1;33m)\u001b[0m\u001b[1;33m\u001b[0m\u001b[1;33m\u001b[0m\u001b[0m\n\u001b[0;32m   1753\u001b[0m         \u001b[1;32mexcept\u001b[0m \u001b[0mImportError\u001b[0m\u001b[1;33m:\u001b[0m\u001b[1;33m\u001b[0m\u001b[1;33m\u001b[0m\u001b[0m\n\u001b[1;32m-> 1754\u001b[1;33m             raise ImportError(\n\u001b[0m\u001b[0;32m   1755\u001b[0m                 \u001b[1;34m\"matplotlib is required for plotting when the \"\u001b[0m\u001b[1;33m\u001b[0m\u001b[1;33m\u001b[0m\u001b[0m\n\u001b[0;32m   1756\u001b[0m                 \u001b[1;34m'default backend \"matplotlib\" is selected.'\u001b[0m\u001b[1;33m\u001b[0m\u001b[1;33m\u001b[0m\u001b[0m\n",
      "\u001b[1;31mImportError\u001b[0m: matplotlib is required for plotting when the default backend \"matplotlib\" is selected."
     ]
    }
   ],
   "source": [
    "data.hist('Rating')\n"
   ]
  },
  {
   "cell_type": "code",
   "execution_count": null,
   "id": "d455517e",
   "metadata": {
    "scrolled": true
   },
   "outputs": [],
   "source": [
    "data\n",
    "\n"
   ]
  },
  {
   "cell_type": "markdown",
   "id": "364a910f",
   "metadata": {},
   "source": [
    "## Selecting a column \n"
   ]
  },
  {
   "cell_type": "markdown",
   "id": "1dff6f7a",
   "metadata": {},
   "source": [
    "##selecting a column\n",
    "\n"
   ]
  },
  {
   "cell_type": "code",
   "execution_count": null,
   "id": "623b5431",
   "metadata": {},
   "outputs": [],
   "source": [
    "data['Rating'].mean()\n"
   ]
  },
  {
   "cell_type": "markdown",
   "id": "96366df5",
   "metadata": {},
   "source": [
    "## Selecting multiple columns \n"
   ]
  },
  {
   "cell_type": "code",
   "execution_count": null,
   "id": "ad9ac05a",
   "metadata": {},
   "outputs": [],
   "source": [
    "data[['Course Name', 'Rating']]"
   ]
  },
  {
   "cell_type": "code",
   "execution_count": null,
   "id": "b6c88074",
   "metadata": {},
   "outputs": [],
   "source": [
    "    \n"
   ]
  },
  {
   "cell_type": "markdown",
   "id": "35e5af5e",
   "metadata": {},
   "source": [
    "## Selecting rows\n"
   ]
  },
  {
   "cell_type": "code",
   "execution_count": null,
   "id": "b2f61421",
   "metadata": {},
   "outputs": [],
   "source": [
    "data.iloc[3]"
   ]
  },
  {
   "cell_type": "markdown",
   "id": "6900bf6f",
   "metadata": {},
   "source": [
    "##selecting multiple rows\n"
   ]
  },
  {
   "cell_type": "code",
   "execution_count": null,
   "id": "c5b65306",
   "metadata": {},
   "outputs": [],
   "source": [
    "data.iloc[1:3]\n"
   ]
  },
  {
   "cell_type": "markdown",
   "id": "c8ea938d",
   "metadata": {},
   "source": [
    "### Selecting a Section \n"
   ]
  },
  {
   "cell_type": "code",
   "execution_count": null,
   "id": "cfe0d365",
   "metadata": {},
   "outputs": [],
   "source": [
    "data[['Course Name','Rating']].iloc[1:3]"
   ]
  },
  {
   "cell_type": "code",
   "execution_count": null,
   "id": "d8216263",
   "metadata": {},
   "outputs": [],
   "source": [
    "data['Timestamp'].iloc[3]"
   ]
  },
  {
   "cell_type": "code",
   "execution_count": null,
   "id": "f75d3506",
   "metadata": {},
   "outputs": [],
   "source": [
    "data['Timestamp']\n"
   ]
  },
  {
   "cell_type": "code",
   "execution_count": null,
   "id": "e743fd90",
   "metadata": {},
   "outputs": [],
   "source": [
    "data['Timestamp'].iloc[0]"
   ]
  },
  {
   "cell_type": "markdown",
   "id": "fdbb2f46",
   "metadata": {},
   "source": [
    "### One-condition"
   ]
  },
  {
   "cell_type": "code",
   "execution_count": null,
   "id": "38478ef1",
   "metadata": {},
   "outputs": [],
   "source": [
    "data[data['Rating'] > 4]  # Data where the ratings are greater than 4 \n"
   ]
  },
  {
   "cell_type": "code",
   "execution_count": null,
   "id": "c3596b2d",
   "metadata": {},
   "outputs": [],
   "source": [
    "data[data['Rating'] > 4].count()"
   ]
  },
  {
   "cell_type": "code",
   "execution_count": null,
   "id": "5e9bcddc",
   "metadata": {},
   "outputs": [],
   "source": [
    "data[data['Rating'] > 4]\n",
    "\n"
   ]
  },
  {
   "cell_type": "code",
   "execution_count": null,
   "id": "89629c3e",
   "metadata": {},
   "outputs": [],
   "source": [
    "data[data['Rating'] > 4]['Rating']"
   ]
  },
  {
   "cell_type": "code",
   "execution_count": null,
   "id": "a8fbf3c8",
   "metadata": {},
   "outputs": [],
   "source": [
    "d2 = data[data['Rating'] > 4]\n",
    "print(d2)\n"
   ]
  },
  {
   "cell_type": "markdown",
   "id": "89a5be66",
   "metadata": {},
   "source": [
    "### Multiple conditions \n"
   ]
  },
  {
   "cell_type": "code",
   "execution_count": null,
   "id": "32fd7e21",
   "metadata": {},
   "outputs": [],
   "source": [
    "data[(data['Rating'] > 4 ) & (data['Course Name'] == 'The Complete Python Course: Build 10 Professional OOP Apps')]"
   ]
  },
  {
   "cell_type": "markdown",
   "id": "6369883a",
   "metadata": {},
   "source": [
    "### Time based filtering"
   ]
  },
  {
   "cell_type": "code",
   "execution_count": null,
   "id": "f63a8a06",
   "metadata": {},
   "outputs": [],
   "source": [
    "data[(data['Timestamp'] > datetime(2020,7,1)) & ( data['Timestamp'] < datetime(2020,12,31))]  # here date time is being treated as a string "
   ]
  },
  {
   "cell_type": "code",
   "execution_count": null,
   "id": "41a70885",
   "metadata": {},
   "outputs": [],
   "source": [
    "data[(data['Timestamp'] > datetime(2020,7,1)) & ( data['Timestamp'] < datetime(2020,12,31))] \n"
   ]
  },
  {
   "cell_type": "code",
   "execution_count": null,
   "id": "b8ded78a",
   "metadata": {},
   "outputs": [],
   "source": [
    "data['Timestamp']\n"
   ]
  },
  {
   "cell_type": "code",
   "execution_count": null,
   "id": "a8df6073",
   "metadata": {},
   "outputs": [],
   "source": [
    "data[(data['Timestamp'] > datetime(2020,7,1,tzinfo = utc)) & ( data['Timestamp'] < datetime(2020,12,31,tzinfo = utc))]  # here date time is being treated as a string \n"
   ]
  },
  {
   "cell_type": "markdown",
   "id": "484fe4c3",
   "metadata": {},
   "source": [
    "### From data to Information \n"
   ]
  },
  {
   "cell_type": "markdown",
   "id": "e302eada",
   "metadata": {},
   "source": [
    "### Average rating \n"
   ]
  },
  {
   "cell_type": "code",
   "execution_count": null,
   "id": "e79d5ae1",
   "metadata": {},
   "outputs": [],
   "source": [
    "data\n",
    "\n"
   ]
  },
  {
   "cell_type": "code",
   "execution_count": null,
   "id": "e25a09dd",
   "metadata": {},
   "outputs": [],
   "source": [
    "data['Rating'].mean()\n"
   ]
  },
  {
   "cell_type": "markdown",
   "id": "1b337647",
   "metadata": {},
   "source": [
    "### Average rating for a particular course"
   ]
  },
  {
   "cell_type": "code",
   "execution_count": null,
   "id": "5275f4dc",
   "metadata": {},
   "outputs": [],
   "source": [
    "data[(data['Course Name'] == 'The Python Mega Course: Build 10 Real World Applications')]['Rating'].mean()"
   ]
  },
  {
   "cell_type": "code",
   "execution_count": null,
   "id": "481c1d54",
   "metadata": {},
   "outputs": [],
   "source": [
    "data['Course Name'][0]"
   ]
  },
  {
   "cell_type": "markdown",
   "id": "b8abfbce",
   "metadata": {},
   "source": [
    "### Average rating for a particular period \n"
   ]
  },
  {
   "cell_type": "code",
   "execution_count": null,
   "id": "df400adf",
   "metadata": {},
   "outputs": [],
   "source": [
    "data[(data['Timestamp'] > datetime(2020,1,1,tzinfo = utc)) & (data['Timestamp'] < datetime(2020,12,31,tzinfo = utc))]['Rating'].mean()"
   ]
  },
  {
   "cell_type": "markdown",
   "id": "43e591f1",
   "metadata": {},
   "source": [
    "### Average rating for a particular period for a particular course "
   ]
  },
  {
   "cell_type": "code",
   "execution_count": null,
   "id": "caba0c77",
   "metadata": {},
   "outputs": [],
   "source": [
    "data[(data['Timestamp'] > datetime(2020,1,1,tzinfo = utc)) & (data['Timestamp'] < datetime(2020,12,31,tzinfo = utc)) & (data['Course Name'] == 'The Python Mega Course: Build 10 Real World Applications')]['Rating'].mean()"
   ]
  },
  {
   "cell_type": "markdown",
   "id": "5c9c3e17",
   "metadata": {},
   "source": [
    "### Average of uncommented ratings\n"
   ]
  },
  {
   "cell_type": "code",
   "execution_count": null,
   "id": "4e3d680b",
   "metadata": {},
   "outputs": [],
   "source": [
    "data[(data['Comment'].isnull())]['Rating'].mean()\n"
   ]
  },
  {
   "cell_type": "markdown",
   "id": "f7e86d0e",
   "metadata": {},
   "source": [
    "### Average of commented ratings "
   ]
  },
  {
   "cell_type": "code",
   "execution_count": null,
   "id": "c42fed53",
   "metadata": {},
   "outputs": [],
   "source": [
    "data[(data['Comment'].notnull())]['Rating'].mean()"
   ]
  },
  {
   "cell_type": "markdown",
   "id": "4d4e840f",
   "metadata": {},
   "source": [
    "### Number of uncommented ratings"
   ]
  },
  {
   "cell_type": "code",
   "execution_count": null,
   "id": "b0ef8144",
   "metadata": {},
   "outputs": [],
   "source": [
    "data[(data['Comment'].isnull())]['Rating'].count()\n",
    "\n"
   ]
  },
  {
   "cell_type": "markdown",
   "id": "b1d7f170",
   "metadata": {},
   "source": []
  },
  {
   "cell_type": "markdown",
   "id": "51dbba17",
   "metadata": {},
   "source": [
    "### Number of comment containing a certain word"
   ]
  },
  {
   "cell_type": "code",
   "execution_count": null,
   "id": "31a9b50c",
   "metadata": {},
   "outputs": [],
   "source": [
    "data[(data['Comment'].str.contains('accent', na = False) )]['Rating'].count()\n"
   ]
  },
  {
   "cell_type": "markdown",
   "id": "971d2723",
   "metadata": {},
   "source": [
    "### Average of the commented ratings with \n"
   ]
  },
  {
   "cell_type": "code",
   "execution_count": null,
   "id": "a4457a4e",
   "metadata": {},
   "outputs": [],
   "source": []
  }
 ],
 "metadata": {
  "kernelspec": {
   "display_name": "Python 3 (ipykernel)",
   "language": "python",
   "name": "python3"
  },
  "language_info": {
   "codemirror_mode": {
    "name": "ipython",
    "version": 3
   },
   "file_extension": ".py",
   "mimetype": "text/x-python",
   "name": "python",
   "nbconvert_exporter": "python",
   "pygments_lexer": "ipython3",
   "version": "3.9.5"
  }
 },
 "nbformat": 4,
 "nbformat_minor": 5
}
